{
 "cells": [
  {
   "attachments": {},
   "cell_type": "markdown",
   "metadata": {},
   "source": [
    "## Contaminación ambiental \n",
    "En 2021, las emisiones de CO2 en Canadá han crecido 15,083 megatoneladas, un 2,75% respecto a 2020.\n",
    "Las emisiones de CO2 en 2021 han sido de 563,538 megatoneladas, con lo que Canadá está entre los diez países más contaminantes en lo que respecta a emisiones de dióxido de carbono del ranking de países formado por 184 países.\n",
    "\n",
    "El ministro canadiense del Medioambiente, Steven Guilbeault, presentó este martes el plan del Gobierno para reducir drásticamente las emisiones de gases de efecto invernadero en los próximos ocho años y alcanzar los ambiciosos objetivos de reducción establecidos para el 2030. Se trata de un plan que demandará grandes recortes en los sectores de la electricidad, el petróleo, el gas y el transporte.\n",
    "\n",
    "Para este reporte, se busca saber y entender cuáles son los principales componentes causantes de este problema en los vehículos, saber cuáles son los vehículos que más y menos contaminan. Para lo cuál, responderemos a las preguntas ¿cuáles son los componentes que tienen mayor impacto en el aumento de las emisiones de dióxido de carbono en un vehículo?, y ¿Qué impacto en el medio ambiente tiene un vehículo eléctrico?"
   ]
  },
  {
   "cell_type": "code",
   "execution_count": 1,
   "metadata": {
    "ExecuteTime": {
     "end_time": "2023-05-23T01:54:35.559537200Z",
     "start_time": "2023-05-23T01:54:32.446702400Z"
    }
   },
   "outputs": [],
   "source": [
    "import pandas as pd\n",
    "import matplotlib.pyplot as plt"
   ]
  },
  {
   "cell_type": "code",
   "execution_count": 2,
   "metadata": {
    "ExecuteTime": {
     "end_time": "2023-05-23T01:54:35.674214700Z",
     "start_time": "2023-05-23T01:54:35.601535Z"
    }
   },
   "outputs": [],
   "source": [
    "df = pd.read_csv('CO2 Emissions_Canada.csv')"
   ]
  },
  {
   "cell_type": "code",
   "execution_count": 3,
   "metadata": {
    "ExecuteTime": {
     "end_time": "2023-05-23T01:54:35.749380400Z",
     "start_time": "2023-05-23T01:54:35.643612900Z"
    }
   },
   "outputs": [
    {
     "data": {
      "text/html": [
       "<div>\n",
       "<style scoped>\n",
       "    .dataframe tbody tr th:only-of-type {\n",
       "        vertical-align: middle;\n",
       "    }\n",
       "\n",
       "    .dataframe tbody tr th {\n",
       "        vertical-align: top;\n",
       "    }\n",
       "\n",
       "    .dataframe thead th {\n",
       "        text-align: right;\n",
       "    }\n",
       "</style>\n",
       "<table border=\"1\" class=\"dataframe\">\n",
       "  <thead>\n",
       "    <tr style=\"text-align: right;\">\n",
       "      <th></th>\n",
       "      <th>Make</th>\n",
       "      <th>Model</th>\n",
       "      <th>Vehicle Class</th>\n",
       "      <th>Engine Size(L)</th>\n",
       "      <th>Cylinders</th>\n",
       "      <th>Transmission</th>\n",
       "      <th>Fuel Type</th>\n",
       "      <th>Fuel Consumption City (L/100 km)</th>\n",
       "      <th>Fuel Consumption Hwy (L/100 km)</th>\n",
       "      <th>Fuel Consumption Comb (L/100 km)</th>\n",
       "      <th>Fuel Consumption Comb (mpg)</th>\n",
       "      <th>CO2 Emissions(g/km)</th>\n",
       "    </tr>\n",
       "  </thead>\n",
       "  <tbody>\n",
       "    <tr>\n",
       "      <th>0</th>\n",
       "      <td>ACURA</td>\n",
       "      <td>ILX</td>\n",
       "      <td>COMPACT</td>\n",
       "      <td>2.0</td>\n",
       "      <td>4</td>\n",
       "      <td>AS5</td>\n",
       "      <td>Z</td>\n",
       "      <td>9.9</td>\n",
       "      <td>6.7</td>\n",
       "      <td>8.5</td>\n",
       "      <td>33</td>\n",
       "      <td>196</td>\n",
       "    </tr>\n",
       "    <tr>\n",
       "      <th>1</th>\n",
       "      <td>ACURA</td>\n",
       "      <td>ILX</td>\n",
       "      <td>COMPACT</td>\n",
       "      <td>2.4</td>\n",
       "      <td>4</td>\n",
       "      <td>M6</td>\n",
       "      <td>Z</td>\n",
       "      <td>11.2</td>\n",
       "      <td>7.7</td>\n",
       "      <td>9.6</td>\n",
       "      <td>29</td>\n",
       "      <td>221</td>\n",
       "    </tr>\n",
       "    <tr>\n",
       "      <th>2</th>\n",
       "      <td>ACURA</td>\n",
       "      <td>ILX HYBRID</td>\n",
       "      <td>COMPACT</td>\n",
       "      <td>1.5</td>\n",
       "      <td>4</td>\n",
       "      <td>AV7</td>\n",
       "      <td>Z</td>\n",
       "      <td>6.0</td>\n",
       "      <td>5.8</td>\n",
       "      <td>5.9</td>\n",
       "      <td>48</td>\n",
       "      <td>136</td>\n",
       "    </tr>\n",
       "    <tr>\n",
       "      <th>3</th>\n",
       "      <td>ACURA</td>\n",
       "      <td>MDX 4WD</td>\n",
       "      <td>SUV - SMALL</td>\n",
       "      <td>3.5</td>\n",
       "      <td>6</td>\n",
       "      <td>AS6</td>\n",
       "      <td>Z</td>\n",
       "      <td>12.7</td>\n",
       "      <td>9.1</td>\n",
       "      <td>11.1</td>\n",
       "      <td>25</td>\n",
       "      <td>255</td>\n",
       "    </tr>\n",
       "    <tr>\n",
       "      <th>4</th>\n",
       "      <td>ACURA</td>\n",
       "      <td>RDX AWD</td>\n",
       "      <td>SUV - SMALL</td>\n",
       "      <td>3.5</td>\n",
       "      <td>6</td>\n",
       "      <td>AS6</td>\n",
       "      <td>Z</td>\n",
       "      <td>12.1</td>\n",
       "      <td>8.7</td>\n",
       "      <td>10.6</td>\n",
       "      <td>27</td>\n",
       "      <td>244</td>\n",
       "    </tr>\n",
       "  </tbody>\n",
       "</table>\n",
       "</div>"
      ],
      "text/plain": [
       "    Make       Model Vehicle Class  Engine Size(L)  Cylinders Transmission  \\\n",
       "0  ACURA         ILX       COMPACT             2.0          4          AS5   \n",
       "1  ACURA         ILX       COMPACT             2.4          4           M6   \n",
       "2  ACURA  ILX HYBRID       COMPACT             1.5          4          AV7   \n",
       "3  ACURA     MDX 4WD   SUV - SMALL             3.5          6          AS6   \n",
       "4  ACURA     RDX AWD   SUV - SMALL             3.5          6          AS6   \n",
       "\n",
       "  Fuel Type  Fuel Consumption City (L/100 km)  \\\n",
       "0         Z                               9.9   \n",
       "1         Z                              11.2   \n",
       "2         Z                               6.0   \n",
       "3         Z                              12.7   \n",
       "4         Z                              12.1   \n",
       "\n",
       "   Fuel Consumption Hwy (L/100 km)  Fuel Consumption Comb (L/100 km)  \\\n",
       "0                              6.7                               8.5   \n",
       "1                              7.7                               9.6   \n",
       "2                              5.8                               5.9   \n",
       "3                              9.1                              11.1   \n",
       "4                              8.7                              10.6   \n",
       "\n",
       "   Fuel Consumption Comb (mpg)  CO2 Emissions(g/km)  \n",
       "0                           33                  196  \n",
       "1                           29                  221  \n",
       "2                           48                  136  \n",
       "3                           25                  255  \n",
       "4                           27                  244  "
      ]
     },
     "execution_count": 3,
     "metadata": {},
     "output_type": "execute_result"
    }
   ],
   "source": [
    "df.head()"
   ]
  },
  {
   "attachments": {},
   "cell_type": "markdown",
   "metadata": {},
   "source": [
    "## Data Understanding\n",
    "De acuerdo a una guía de Canadá \"Fuel Consumtion Guide\", el tipo de gasolina se separa en las siguientes categorías:\n",
    "- X = Regular gasoline \n",
    "- Z = Premium gasoline\n",
    "- D = Diesel\n",
    "- E = E85\n",
    "- B = Electricity\n",
    "- N = Natural gas\n",
    "\n",
    "Por otro lado, la eficiencia del combustible se refiere más comúnmente a la eficiencia energética de un modelo concreto de vehículo, en el que su rendimiento total se da como una relación de unidades de autonomía por una cantidad unitaria de combustible de entrada (gasolina, gasóleo, etc.). Esta relación se expresa en medidas comunes como \"litros por 100 kilómetros\" (L/100 km). Dependiendo cuál sea su eficiencia, tendrá un gasto de mpg.\n",
    "\n",
    "Por último, hablando de las emisiones CO2, las ordenes de magnitud son las siguientes: un coche potente o pesado emite más de 250 g de CO2/km, los compactos entre 110 y 180 g de CO2/km y los más pequeños pueden alcanzar los 90 g de CO2/km. "
   ]
  },
  {
   "cell_type": "code",
   "execution_count": 4,
   "metadata": {
    "ExecuteTime": {
     "end_time": "2023-05-23T01:54:35.750758300Z",
     "start_time": "2023-05-23T01:54:35.727615900Z"
    }
   },
   "outputs": [
    {
     "data": {
      "text/plain": [
       "Make                                0\n",
       "Model                               0\n",
       "Vehicle Class                       0\n",
       "Engine Size(L)                      0\n",
       "Cylinders                           0\n",
       "Transmission                        0\n",
       "Fuel Type                           0\n",
       "Fuel Consumption City (L/100 km)    0\n",
       "Fuel Consumption Hwy (L/100 km)     0\n",
       "Fuel Consumption Comb (L/100 km)    0\n",
       "Fuel Consumption Comb (mpg)         0\n",
       "CO2 Emissions(g/km)                 0\n",
       "dtype: int64"
      ]
     },
     "execution_count": 4,
     "metadata": {},
     "output_type": "execute_result"
    }
   ],
   "source": [
    "# Lo primero que se hará es checar los datos faltaes en el dataset\n",
    "df.isnull().sum()"
   ]
  },
  {
   "attachments": {},
   "cell_type": "markdown",
   "metadata": {},
   "source": [
    "En este caso, no hay datos faltantes, por lo que se puede continuar con el análisis.\n",
    "Por lo que ahora se observara la distribución de los datos con gráficos de histogramas"
   ]
  },
  {
   "cell_type": "code",
   "execution_count": 5,
   "metadata": {
    "ExecuteTime": {
     "end_time": "2023-05-23T01:54:37.766796700Z",
     "start_time": "2023-05-23T01:54:35.753381Z"
    }
   },
   "outputs": [
    {
     "name": "stderr",
     "output_type": "stream",
     "text": [
      "C:\\Users\\olive\\AppData\\Local\\Temp/ipykernel_21984/894870606.py:2: UserWarning: To output multiple subplots, the figure containing the passed axes is being cleared\n",
      "  df.hist(ax=ax)\n"
     ]
    },
    {
     "data": {
      "text/plain": [
       "<function matplotlib.pyplot.show(close=None, block=None)>"
      ]
     },
     "execution_count": 5,
     "metadata": {},
     "output_type": "execute_result"
    },
    {
     "data": {
      "image/png": "[encoded data removed]",
      "text/plain": [
       "<Figure size 720x576 with 9 Axes>"
      ]
     },
     "metadata": {
      "needs_background": "light"
     },
     "output_type": "display_data"
    }
   ],
   "source": [
    "fig, ax = plt.subplots(figsize=(10, 8))\n",
    "df.hist(ax=ax)\n",
    "plt.show"
   ]
  },
  {
   "attachments": {},
   "cell_type": "markdown",
   "metadata": {},
   "source": [
    "Podemos ver que todas las métricas tienen buena distribución de los datos, por lo que no tenemos la necesidad de quitar alguno."
   ]
  },
  {
   "attachments": {},
   "cell_type": "markdown",
   "metadata": {},
   "source": [
    "Checamos el tamaño del dataset"
   ]
  },
  {
   "cell_type": "code",
   "execution_count": 6,
   "metadata": {
    "ExecuteTime": {
     "end_time": "2023-05-23T01:54:37.781801200Z",
     "start_time": "2023-05-23T01:54:37.768797200Z"
    }
   },
   "outputs": [
    {
     "data": {
      "text/plain": [
       "(7385, 12)"
      ]
     },
     "execution_count": 6,
     "metadata": {},
     "output_type": "execute_result"
    }
   ],
   "source": [
    "df.shape"
   ]
  },
  {
   "attachments": {},
   "cell_type": "markdown",
   "metadata": {},
   "source": [
    "Revisamos las variables categóricas"
   ]
  },
  {
   "cell_type": "code",
   "execution_count": 7,
   "metadata": {
    "ExecuteTime": {
     "end_time": "2023-05-23T01:54:37.950720700Z",
     "start_time": "2023-05-23T01:54:37.786799Z"
    }
   },
   "outputs": [
    {
     "data": {
      "text/plain": [
       "FORD             628\n",
       "CHEVROLET        588\n",
       "BMW              527\n",
       "MERCEDES-BENZ    419\n",
       "PORSCHE          376\n",
       "TOYOTA           330\n",
       "GMC              328\n",
       "AUDI             286\n",
       "NISSAN           259\n",
       "JEEP             251\n",
       "DODGE            246\n",
       "KIA              231\n",
       "HONDA            214\n",
       "HYUNDAI          210\n",
       "MINI             204\n",
       "VOLKSWAGEN       197\n",
       "MAZDA            180\n",
       "LEXUS            178\n",
       "JAGUAR           160\n",
       "CADILLAC         158\n",
       "SUBARU           140\n",
       "VOLVO            124\n",
       "INFINITI         108\n",
       "BUICK            103\n",
       "RAM               97\n",
       "LINCOLN           96\n",
       "MITSUBISHI        95\n",
       "CHRYSLER          88\n",
       "LAND ROVER        85\n",
       "FIAT              73\n",
       "ACURA             72\n",
       "MASERATI          61\n",
       "ROLLS-ROYCE       50\n",
       "ASTON MARTIN      47\n",
       "BENTLEY           46\n",
       "LAMBORGHINI       41\n",
       "ALFA ROMEO        30\n",
       "GENESIS           25\n",
       "SCION             22\n",
       "SMART              7\n",
       "BUGATTI            3\n",
       "SRT                2\n",
       "Name: Make, dtype: int64"
      ]
     },
     "execution_count": 7,
     "metadata": {},
     "output_type": "execute_result"
    }
   ],
   "source": [
    "df['Make'].value_counts()"
   ]
  },
  {
   "cell_type": "code",
   "execution_count": 8,
   "metadata": {
    "ExecuteTime": {
     "end_time": "2023-05-23T01:54:38.015718500Z",
     "start_time": "2023-05-23T01:54:37.800801900Z"
    }
   },
   "outputs": [
    {
     "data": {
      "text/plain": [
       "F-150 FFV                     32\n",
       "F-150 FFV 4X4                 32\n",
       "MUSTANG                       27\n",
       "FOCUS FFV                     24\n",
       "SONIC                         20\n",
       "                              ..\n",
       "F-PACE SVR                     1\n",
       "1500 Classic 4X4 EcoDiesel     1\n",
       "M8 Coupe Competition           1\n",
       "LS 500h                        1\n",
       "V60 3.0T AWD                   1\n",
       "Name: Model, Length: 2053, dtype: int64"
      ]
     },
     "execution_count": 8,
     "metadata": {},
     "output_type": "execute_result"
    }
   ],
   "source": [
    "df['Model'].value_counts()"
   ]
  },
  {
   "cell_type": "code",
   "execution_count": 9,
   "metadata": {
    "ExecuteTime": {
     "end_time": "2023-05-23T01:54:38.174178700Z",
     "start_time": "2023-05-23T01:54:37.815797Z"
    }
   },
   "outputs": [
    {
     "data": {
      "text/plain": [
       "<Axes: >"
      ]
     },
     "execution_count": 9,
     "metadata": {},
     "output_type": "execute_result"
    },
    {
     "data": {
      "image/png": "[encoded data removed]",
      "text/plain": [
       "<Figure size 432x288 with 1 Axes>"
      ]
     },
     "metadata": {
      "needs_background": "light"
     },
     "output_type": "display_data"
    }
   ],
   "source": [
    "df['Vehicle Class'].value_counts().plot(kind='bar')"
   ]
  },
  {
   "cell_type": "code",
   "execution_count": 10,
   "metadata": {
    "ExecuteTime": {
     "end_time": "2023-05-23T01:54:38.599375700Z",
     "start_time": "2023-05-23T01:54:38.191938Z"
    }
   },
   "outputs": [
    {
     "data": {
      "text/plain": [
       "<Axes: >"
      ]
     },
     "execution_count": 10,
     "metadata": {},
     "output_type": "execute_result"
    },
    {
     "data": {
      "image/png": "[encoded data removed]",
      "text/plain": [
       "<Figure size 432x288 with 1 Axes>"
      ]
     },
     "metadata": {
      "needs_background": "light"
     },
     "output_type": "display_data"
    }
   ],
   "source": [
    "df['Transmission'].value_counts().plot(kind='bar')"
   ]
  },
  {
   "cell_type": "code",
   "execution_count": 11,
   "metadata": {
    "ExecuteTime": {
     "end_time": "2023-05-23T01:54:38.836372400Z",
     "start_time": "2023-05-23T01:54:38.600538700Z"
    }
   },
   "outputs": [
    {
     "data": {
      "text/plain": [
       "<Axes: >"
      ]
     },
     "execution_count": 11,
     "metadata": {},
     "output_type": "execute_result"
    },
    {
     "data": {
      "image/png": "[encoded data removed]",
      "text/plain": [
       "<Figure size 432x288 with 1 Axes>"
      ]
     },
     "metadata": {
      "needs_background": "light"
     },
     "output_type": "display_data"
    }
   ],
   "source": [
    "df['Fuel Type'].value_counts().plot(kind='bar')"
   ]
  },
  {
   "attachments": {},
   "cell_type": "markdown",
   "metadata": {},
   "source": [
    "Vemos que en la base de datos tenemos diferentes tipos de marcas de vehículos, por cada marca contamos con su respectivo modelo y el tipo de vehículo que es (ya sea compato, grande, etc.). También contamos con la transmisión de cada uno y finalmente su tipo de gasolina que ocupan, las cuales ya sabemos a qué se refieren por la investigación que se hizo anteriormente. "
   ]
  },
  {
   "attachments": {},
   "cell_type": "markdown",
   "metadata": {},
   "source": [
    "Ahora que sabemos más de nuestros datos, los separaremos en datos numéricos y categóricos, además de definir nuestra variable a predecir.\n",
    "\n",
    "Para responder a la pregunta ¿cuáles son los componentes que tienen mayor impacto en el aumento de las emisiones de dióxido de carbono en un vehículo?, haremos una predicción de las emisiones CO2 de cada tipo de vehículo. Para ello, haremos una preparación de los datos y haremos el modelo. "
   ]
  },
  {
   "cell_type": "code",
   "execution_count": 12,
   "metadata": {
    "ExecuteTime": {
     "end_time": "2023-05-23T01:54:38.901369500Z",
     "start_time": "2023-05-23T01:54:38.837373Z"
    }
   },
   "outputs": [],
   "source": [
    "target = 'CO2 Emissions(g/km)'\n",
    "\n",
    "categ_cols = [cname for cname in df.columns if df[cname].dtype == \"object\"]\n",
    "numeric_cols = [cname for cname in df.columns if df[cname].dtype in ['int64', 'float64', 'uint8','int8']]"
   ]
  },
  {
   "cell_type": "code",
   "execution_count": 13,
   "metadata": {
    "ExecuteTime": {
     "end_time": "2023-05-23T01:54:39.052778600Z",
     "start_time": "2023-05-23T01:54:38.852371800Z"
    }
   },
   "outputs": [
    {
     "data": {
      "text/html": [
       "<style  type=\"text/css\" >\n",
       "#T_308a4_row0_col0,#T_308a4_row1_col1,#T_308a4_row2_col2,#T_308a4_row2_col4,#T_308a4_row3_col3,#T_308a4_row4_col2,#T_308a4_row4_col4,#T_308a4_row5_col5,#T_308a4_row6_col6{\n",
       "            background-color:  #b40426;\n",
       "            color:  #f1f1f1;\n",
       "        }#T_308a4_row0_col1,#T_308a4_row1_col0,#T_308a4_row2_col6,#T_308a4_row4_col6,#T_308a4_row6_col2,#T_308a4_row6_col4{\n",
       "            background-color:  #c32e31;\n",
       "            color:  #f1f1f1;\n",
       "        }#T_308a4_row0_col2,#T_308a4_row1_col6{\n",
       "            background-color:  #d24b40;\n",
       "            color:  #f1f1f1;\n",
       "        }#T_308a4_row0_col3,#T_308a4_row4_col1{\n",
       "            background-color:  #de614d;\n",
       "            color:  #000000;\n",
       "        }#T_308a4_row0_col4,#T_308a4_row2_col0,#T_308a4_row6_col1{\n",
       "            background-color:  #d55042;\n",
       "            color:  #000000;\n",
       "        }#T_308a4_row0_col5{\n",
       "            background-color:  #5572df;\n",
       "            color:  #000000;\n",
       "        }#T_308a4_row0_col6{\n",
       "            background-color:  #cf453c;\n",
       "            color:  #f1f1f1;\n",
       "        }#T_308a4_row1_col2,#T_308a4_row4_col0{\n",
       "            background-color:  #d75445;\n",
       "            color:  #000000;\n",
       "        }#T_308a4_row1_col3{\n",
       "            background-color:  #e36c55;\n",
       "            color:  #000000;\n",
       "        }#T_308a4_row1_col4,#T_308a4_row2_col1{\n",
       "            background-color:  #da5a49;\n",
       "            color:  #000000;\n",
       "        }#T_308a4_row1_col5{\n",
       "            background-color:  #5b7ae5;\n",
       "            color:  #000000;\n",
       "        }#T_308a4_row2_col3{\n",
       "            background-color:  #be242e;\n",
       "            color:  #f1f1f1;\n",
       "        }#T_308a4_row2_col5,#T_308a4_row4_col5,#T_308a4_row5_col0,#T_308a4_row5_col1,#T_308a4_row5_col2,#T_308a4_row5_col3,#T_308a4_row5_col4,#T_308a4_row5_col6{\n",
       "            background-color:  #3b4cc0;\n",
       "            color:  #f1f1f1;\n",
       "        }#T_308a4_row3_col0{\n",
       "            background-color:  #e0654f;\n",
       "            color:  #000000;\n",
       "        }#T_308a4_row3_col1{\n",
       "            background-color:  #e7745b;\n",
       "            color:  #000000;\n",
       "        }#T_308a4_row3_col2{\n",
       "            background-color:  #bd1f2d;\n",
       "            color:  #f1f1f1;\n",
       "        }#T_308a4_row3_col4,#T_308a4_row4_col3{\n",
       "            background-color:  #b8122a;\n",
       "            color:  #f1f1f1;\n",
       "        }#T_308a4_row3_col5{\n",
       "            background-color:  #3f53c6;\n",
       "            color:  #f1f1f1;\n",
       "        }#T_308a4_row3_col6,#T_308a4_row6_col3{\n",
       "            background-color:  #ca3b37;\n",
       "            color:  #f1f1f1;\n",
       "        }#T_308a4_row6_col0{\n",
       "            background-color:  #d1493f;\n",
       "            color:  #f1f1f1;\n",
       "        }#T_308a4_row6_col5{\n",
       "            background-color:  #3d50c3;\n",
       "            color:  #f1f1f1;\n",
       "        }</style><table id=\"T_308a4_\" ><thead>    <tr>        <th class=\"blank level0\" ></th>        <th class=\"col_heading level0 col0\" >Engine Size(L)</th>        <th class=\"col_heading level0 col1\" >Cylinders</th>        <th class=\"col_heading level0 col2\" >Fuel Consumption City (L/100 km)</th>        <th class=\"col_heading level0 col3\" >Fuel Consumption Hwy (L/100 km)</th>        <th class=\"col_heading level0 col4\" >Fuel Consumption Comb (L/100 km)</th>        <th class=\"col_heading level0 col5\" >Fuel Consumption Comb (mpg)</th>        <th class=\"col_heading level0 col6\" >CO2 Emissions(g/km)</th>    </tr></thead><tbody>\n",
       "                <tr>\n",
       "                        <th id=\"T_308a4_level0_row0\" class=\"row_heading level0 row0\" >Engine Size(L)</th>\n",
       "                        <td id=\"T_308a4_row0_col0\" class=\"data row0 col0\" >1.000000</td>\n",
       "                        <td id=\"T_308a4_row0_col1\" class=\"data row0 col1\" >0.927653</td>\n",
       "                        <td id=\"T_308a4_row0_col2\" class=\"data row0 col2\" >0.831379</td>\n",
       "                        <td id=\"T_308a4_row0_col3\" class=\"data row0 col3\" >0.761526</td>\n",
       "                        <td id=\"T_308a4_row0_col4\" class=\"data row0 col4\" >0.817060</td>\n",
       "                        <td id=\"T_308a4_row0_col5\" class=\"data row0 col5\" >-0.757854</td>\n",
       "                        <td id=\"T_308a4_row0_col6\" class=\"data row0 col6\" >0.851145</td>\n",
       "            </tr>\n",
       "            <tr>\n",
       "                        <th id=\"T_308a4_level0_row1\" class=\"row_heading level0 row1\" >Cylinders</th>\n",
       "                        <td id=\"T_308a4_row1_col0\" class=\"data row1 col0\" >0.927653</td>\n",
       "                        <td id=\"T_308a4_row1_col1\" class=\"data row1 col1\" >1.000000</td>\n",
       "                        <td id=\"T_308a4_row1_col2\" class=\"data row1 col2\" >0.800702</td>\n",
       "                        <td id=\"T_308a4_row1_col3\" class=\"data row1 col3\" >0.715252</td>\n",
       "                        <td id=\"T_308a4_row1_col4\" class=\"data row1 col4\" >0.780534</td>\n",
       "                        <td id=\"T_308a4_row1_col5\" class=\"data row1 col5\" >-0.719321</td>\n",
       "                        <td id=\"T_308a4_row1_col6\" class=\"data row1 col6\" >0.832644</td>\n",
       "            </tr>\n",
       "            <tr>\n",
       "                        <th id=\"T_308a4_level0_row2\" class=\"row_heading level0 row2\" >Fuel Consumption City (L/100 km)</th>\n",
       "                        <td id=\"T_308a4_row2_col0\" class=\"data row2 col0\" >0.831379</td>\n",
       "                        <td id=\"T_308a4_row2_col1\" class=\"data row2 col1\" >0.800702</td>\n",
       "                        <td id=\"T_308a4_row2_col2\" class=\"data row2 col2\" >1.000000</td>\n",
       "                        <td id=\"T_308a4_row2_col3\" class=\"data row2 col3\" >0.948180</td>\n",
       "                        <td id=\"T_308a4_row2_col4\" class=\"data row2 col4\" >0.993810</td>\n",
       "                        <td id=\"T_308a4_row2_col5\" class=\"data row2 col5\" >-0.927059</td>\n",
       "                        <td id=\"T_308a4_row2_col6\" class=\"data row2 col6\" >0.919592</td>\n",
       "            </tr>\n",
       "            <tr>\n",
       "                        <th id=\"T_308a4_level0_row3\" class=\"row_heading level0 row3\" >Fuel Consumption Hwy (L/100 km)</th>\n",
       "                        <td id=\"T_308a4_row3_col0\" class=\"data row3 col0\" >0.761526</td>\n",
       "                        <td id=\"T_308a4_row3_col1\" class=\"data row3 col1\" >0.715252</td>\n",
       "                        <td id=\"T_308a4_row3_col2\" class=\"data row3 col2\" >0.948180</td>\n",
       "                        <td id=\"T_308a4_row3_col3\" class=\"data row3 col3\" >1.000000</td>\n",
       "                        <td id=\"T_308a4_row3_col4\" class=\"data row3 col4\" >0.977299</td>\n",
       "                        <td id=\"T_308a4_row3_col5\" class=\"data row3 col5\" >-0.890638</td>\n",
       "                        <td id=\"T_308a4_row3_col6\" class=\"data row3 col6\" >0.883536</td>\n",
       "            </tr>\n",
       "            <tr>\n",
       "                        <th id=\"T_308a4_level0_row4\" class=\"row_heading level0 row4\" >Fuel Consumption Comb (L/100 km)</th>\n",
       "                        <td id=\"T_308a4_row4_col0\" class=\"data row4 col0\" >0.817060</td>\n",
       "                        <td id=\"T_308a4_row4_col1\" class=\"data row4 col1\" >0.780534</td>\n",
       "                        <td id=\"T_308a4_row4_col2\" class=\"data row4 col2\" >0.993810</td>\n",
       "                        <td id=\"T_308a4_row4_col3\" class=\"data row4 col3\" >0.977299</td>\n",
       "                        <td id=\"T_308a4_row4_col4\" class=\"data row4 col4\" >1.000000</td>\n",
       "                        <td id=\"T_308a4_row4_col5\" class=\"data row4 col5\" >-0.925576</td>\n",
       "                        <td id=\"T_308a4_row4_col6\" class=\"data row4 col6\" >0.918052</td>\n",
       "            </tr>\n",
       "            <tr>\n",
       "                        <th id=\"T_308a4_level0_row5\" class=\"row_heading level0 row5\" >Fuel Consumption Comb (mpg)</th>\n",
       "                        <td id=\"T_308a4_row5_col0\" class=\"data row5 col0\" >-0.757854</td>\n",
       "                        <td id=\"T_308a4_row5_col1\" class=\"data row5 col1\" >-0.719321</td>\n",
       "                        <td id=\"T_308a4_row5_col2\" class=\"data row5 col2\" >-0.927059</td>\n",
       "                        <td id=\"T_308a4_row5_col3\" class=\"data row5 col3\" >-0.890638</td>\n",
       "                        <td id=\"T_308a4_row5_col4\" class=\"data row5 col4\" >-0.925576</td>\n",
       "                        <td id=\"T_308a4_row5_col5\" class=\"data row5 col5\" >1.000000</td>\n",
       "                        <td id=\"T_308a4_row5_col6\" class=\"data row5 col6\" >-0.907426</td>\n",
       "            </tr>\n",
       "            <tr>\n",
       "                        <th id=\"T_308a4_level0_row6\" class=\"row_heading level0 row6\" >CO2 Emissions(g/km)</th>\n",
       "                        <td id=\"T_308a4_row6_col0\" class=\"data row6 col0\" >0.851145</td>\n",
       "                        <td id=\"T_308a4_row6_col1\" class=\"data row6 col1\" >0.832644</td>\n",
       "                        <td id=\"T_308a4_row6_col2\" class=\"data row6 col2\" >0.919592</td>\n",
       "                        <td id=\"T_308a4_row6_col3\" class=\"data row6 col3\" >0.883536</td>\n",
       "                        <td id=\"T_308a4_row6_col4\" class=\"data row6 col4\" >0.918052</td>\n",
       "                        <td id=\"T_308a4_row6_col5\" class=\"data row6 col5\" >-0.907426</td>\n",
       "                        <td id=\"T_308a4_row6_col6\" class=\"data row6 col6\" >1.000000</td>\n",
       "            </tr>\n",
       "    </tbody></table>"
      ],
      "text/plain": [
       "<pandas.io.formats.style.Styler at 0x294dc3b6b50>"
      ]
     },
     "execution_count": 13,
     "metadata": {},
     "output_type": "execute_result"
    }
   ],
   "source": [
    "#mapa de correlación de las variables\n",
    "corr = df.corr()\n",
    "corr.style.background_gradient(cmap='coolwarm')"
   ]
  },
  {
   "attachments": {},
   "cell_type": "markdown",
   "metadata": {},
   "source": [
    "Como era de esperarse, podemos ver que todas las variables se correlacionan entre sí. Esto debido a que cada uno de estas métricas tienen un alto impacto en las emisiones de CO2. Como vemos que todas están altamente relacionadas al CO2, pero ninguna está por encima del 0.95, no se eliminará ninguna variable."
   ]
  },
  {
   "attachments": {},
   "cell_type": "markdown",
   "metadata": {},
   "source": [
    "Checar las medidas de distribución central"
   ]
  },
  {
   "cell_type": "code",
   "execution_count": 14,
   "metadata": {
    "ExecuteTime": {
     "end_time": "2023-05-23T01:54:39.115031600Z",
     "start_time": "2023-05-23T01:54:39.043780700Z"
    }
   },
   "outputs": [
    {
     "data": {
      "text/html": [
       "<div>\n",
       "<style scoped>\n",
       "    .dataframe tbody tr th:only-of-type {\n",
       "        vertical-align: middle;\n",
       "    }\n",
       "\n",
       "    .dataframe tbody tr th {\n",
       "        vertical-align: top;\n",
       "    }\n",
       "\n",
       "    .dataframe thead th {\n",
       "        text-align: right;\n",
       "    }\n",
       "</style>\n",
       "<table border=\"1\" class=\"dataframe\">\n",
       "  <thead>\n",
       "    <tr style=\"text-align: right;\">\n",
       "      <th></th>\n",
       "      <th>Engine Size(L)</th>\n",
       "      <th>Cylinders</th>\n",
       "      <th>Fuel Consumption City (L/100 km)</th>\n",
       "      <th>Fuel Consumption Hwy (L/100 km)</th>\n",
       "      <th>Fuel Consumption Comb (L/100 km)</th>\n",
       "      <th>Fuel Consumption Comb (mpg)</th>\n",
       "      <th>CO2 Emissions(g/km)</th>\n",
       "    </tr>\n",
       "  </thead>\n",
       "  <tbody>\n",
       "    <tr>\n",
       "      <th>count</th>\n",
       "      <td>7385.000000</td>\n",
       "      <td>7385.000000</td>\n",
       "      <td>7385.000000</td>\n",
       "      <td>7385.000000</td>\n",
       "      <td>7385.000000</td>\n",
       "      <td>7385.000000</td>\n",
       "      <td>7385.000000</td>\n",
       "    </tr>\n",
       "    <tr>\n",
       "      <th>mean</th>\n",
       "      <td>3.160068</td>\n",
       "      <td>5.615030</td>\n",
       "      <td>12.556534</td>\n",
       "      <td>9.041706</td>\n",
       "      <td>10.975071</td>\n",
       "      <td>27.481652</td>\n",
       "      <td>250.584699</td>\n",
       "    </tr>\n",
       "    <tr>\n",
       "      <th>std</th>\n",
       "      <td>1.354170</td>\n",
       "      <td>1.828307</td>\n",
       "      <td>3.500274</td>\n",
       "      <td>2.224456</td>\n",
       "      <td>2.892506</td>\n",
       "      <td>7.231879</td>\n",
       "      <td>58.512679</td>\n",
       "    </tr>\n",
       "    <tr>\n",
       "      <th>min</th>\n",
       "      <td>0.900000</td>\n",
       "      <td>3.000000</td>\n",
       "      <td>4.200000</td>\n",
       "      <td>4.000000</td>\n",
       "      <td>4.100000</td>\n",
       "      <td>11.000000</td>\n",
       "      <td>96.000000</td>\n",
       "    </tr>\n",
       "    <tr>\n",
       "      <th>25%</th>\n",
       "      <td>2.000000</td>\n",
       "      <td>4.000000</td>\n",
       "      <td>10.100000</td>\n",
       "      <td>7.500000</td>\n",
       "      <td>8.900000</td>\n",
       "      <td>22.000000</td>\n",
       "      <td>208.000000</td>\n",
       "    </tr>\n",
       "    <tr>\n",
       "      <th>50%</th>\n",
       "      <td>3.000000</td>\n",
       "      <td>6.000000</td>\n",
       "      <td>12.100000</td>\n",
       "      <td>8.700000</td>\n",
       "      <td>10.600000</td>\n",
       "      <td>27.000000</td>\n",
       "      <td>246.000000</td>\n",
       "    </tr>\n",
       "    <tr>\n",
       "      <th>75%</th>\n",
       "      <td>3.700000</td>\n",
       "      <td>6.000000</td>\n",
       "      <td>14.600000</td>\n",
       "      <td>10.200000</td>\n",
       "      <td>12.600000</td>\n",
       "      <td>32.000000</td>\n",
       "      <td>288.000000</td>\n",
       "    </tr>\n",
       "    <tr>\n",
       "      <th>max</th>\n",
       "      <td>8.400000</td>\n",
       "      <td>16.000000</td>\n",
       "      <td>30.600000</td>\n",
       "      <td>20.600000</td>\n",
       "      <td>26.100000</td>\n",
       "      <td>69.000000</td>\n",
       "      <td>522.000000</td>\n",
       "    </tr>\n",
       "  </tbody>\n",
       "</table>\n",
       "</div>"
      ],
      "text/plain": [
       "       Engine Size(L)    Cylinders  Fuel Consumption City (L/100 km)  \\\n",
       "count     7385.000000  7385.000000                       7385.000000   \n",
       "mean         3.160068     5.615030                         12.556534   \n",
       "std          1.354170     1.828307                          3.500274   \n",
       "min          0.900000     3.000000                          4.200000   \n",
       "25%          2.000000     4.000000                         10.100000   \n",
       "50%          3.000000     6.000000                         12.100000   \n",
       "75%          3.700000     6.000000                         14.600000   \n",
       "max          8.400000    16.000000                         30.600000   \n",
       "\n",
       "       Fuel Consumption Hwy (L/100 km)  Fuel Consumption Comb (L/100 km)  \\\n",
       "count                      7385.000000                       7385.000000   \n",
       "mean                          9.041706                         10.975071   \n",
       "std                           2.224456                          2.892506   \n",
       "min                           4.000000                          4.100000   \n",
       "25%                           7.500000                          8.900000   \n",
       "50%                           8.700000                         10.600000   \n",
       "75%                          10.200000                         12.600000   \n",
       "max                          20.600000                         26.100000   \n",
       "\n",
       "       Fuel Consumption Comb (mpg)  CO2 Emissions(g/km)  \n",
       "count                  7385.000000          7385.000000  \n",
       "mean                     27.481652           250.584699  \n",
       "std                       7.231879            58.512679  \n",
       "min                      11.000000            96.000000  \n",
       "25%                      22.000000           208.000000  \n",
       "50%                      27.000000           246.000000  \n",
       "75%                      32.000000           288.000000  \n",
       "max                      69.000000           522.000000  "
      ]
     },
     "execution_count": 14,
     "metadata": {},
     "output_type": "execute_result"
    }
   ],
   "source": [
    "df.describe()"
   ]
  },
  {
   "attachments": {},
   "cell_type": "markdown",
   "metadata": {},
   "source": [
    "Podemos ver cómo el tamaño del motor tiene sólo 1 cuarto arriba de 3.7 litros. Algo curioso es que el motor más chico apenas es de 0.9 litros, lo cuál hace pensar que es de un coche pequeño. Los cilindors se concentran entre 3 y 6, pero de igual manera hay 1 cuarto de los datos por enciama de estos datos. Esto podría ser debido a que el 25% de los coches son más grandes y estos necesitan un mayor motor y más cilindros, por lo tanto estos emiten más CO2, como podemos ver hasta el final, que el máximo de emisiones es de 522."
   ]
  },
  {
   "attachments": {},
   "cell_type": "markdown",
   "metadata": {},
   "source": [
    "Por último para ver la distribución de datos hacemos un sactter plot"
   ]
  },
  {
   "cell_type": "code",
   "execution_count": 15,
   "metadata": {
    "ExecuteTime": {
     "end_time": "2023-05-23T01:54:39.950036Z",
     "start_time": "2023-05-23T01:54:39.089780800Z"
    }
   },
   "outputs": [
    {
     "name": "stderr",
     "output_type": "stream",
     "text": [
      "c:\\users\\olive\\appdata\\local\\programs\\python\\python39\\lib\\site-packages\\pandas\\plotting\\_matplotlib\\core.py:1041: UserWarning: No data for colormapping provided via 'c'. Parameters 'cmap' will be ignored\n",
      "  scatter = ax.scatter(\n"
     ]
    },
    {
     "data": {
      "text/plain": [
       "<Axes: xlabel='Fuel Type', ylabel='CO2 Emissions(g/km)'>"
      ]
     },
     "execution_count": 15,
     "metadata": {},
     "output_type": "execute_result"
    },
    {
     "data": {
      "image/png": "[encoded data removed]",
      "text/plain": [
       "<Figure size 432x288 with 1 Axes>"
      ]
     },
     "metadata": {
      "needs_background": "light"
     },
     "output_type": "display_data"
    },
    {
     "data": {
      "image/png": "[encoded data removed]",
      "text/plain": [
       "<Figure size 432x288 with 1 Axes>"
      ]
     },
     "metadata": {
      "needs_background": "light"
     },
     "output_type": "display_data"
    },
    {
     "data": {
      "image/png": "[encoded data removed]",
      "text/plain": [
       "<Figure size 432x288 with 1 Axes>"
      ]
     },
     "metadata": {
      "needs_background": "light"
     },
     "output_type": "display_data"
    }
   ],
   "source": [
    "df.plot(kind=\"scatter\", x=\"Engine Size(L)\", y=\"CO2 Emissions(g/km)\", alpha=0.1)\n",
    "df.plot(kind=\"scatter\", x=\"Cylinders\", y=\"CO2 Emissions(g/km)\", alpha=0.1)\n",
    "df.plot(kind=\"scatter\", x=\"Fuel Type\", y=\"CO2 Emissions(g/km)\", alpha=0.1)"
   ]
  },
  {
   "attachments": {},
   "cell_type": "markdown",
   "metadata": {},
   "source": [
    "## Data Preparation"
   ]
  },
  {
   "attachments": {},
   "cell_type": "markdown",
   "metadata": {},
   "source": [
    "La distribución del tamaño de motor y los cilindro es tal cuál se esperaba, mientras mayor, más contamina.\n",
    "Mientras que del tipo de gasolina sale un gráfico diferente a como lo esperaba, pues en específico los tipos Z y X tienen una distribución muy grande de contaminación CO2. "
   ]
  },
  {
   "attachments": {},
   "cell_type": "markdown",
   "metadata": {},
   "source": [
    "Se separa el target de las X y ese mismo target se convierte en nuestra Y a predecir"
   ]
  },
  {
   "cell_type": "code",
   "execution_count": 16,
   "metadata": {
    "ExecuteTime": {
     "end_time": "2023-05-23T01:54:40.002035900Z",
     "start_time": "2023-05-23T01:54:39.956038800Z"
    }
   },
   "outputs": [],
   "source": [
    "X = df.drop(target,axis=1)\n",
    "Y = df[target]"
   ]
  },
  {
   "cell_type": "code",
   "execution_count": 17,
   "metadata": {
    "ExecuteTime": {
     "end_time": "2023-05-23T01:54:48.954130600Z",
     "start_time": "2023-05-23T01:54:39.967030800Z"
    }
   },
   "outputs": [],
   "source": [
    "from sklearn.linear_model import LinearRegression\n",
    "from sklearn.model_selection import train_test_split"
   ]
  },
  {
   "cell_type": "code",
   "execution_count": 18,
   "metadata": {
    "ExecuteTime": {
     "end_time": "2023-05-23T01:54:48.968012900Z",
     "start_time": "2023-05-23T01:54:48.958016100Z"
    }
   },
   "outputs": [],
   "source": [
    "X_train,X_test,y_train,y_test = train_test_split(X,Y,test_size=.30,random_state=0) "
   ]
  },
  {
   "attachments": {},
   "cell_type": "markdown",
   "metadata": {},
   "source": [
    "Siguiendo con la preparación de los datos, como es importante saber las especificaciones del auto para conocer cuál contamina más, se hará un label enconder en las variables categóricas"
   ]
  },
  {
   "cell_type": "code",
   "execution_count": 19,
   "metadata": {
    "ExecuteTime": {
     "end_time": "2023-05-23T01:54:49.028249700Z",
     "start_time": "2023-05-23T01:54:48.970111100Z"
    }
   },
   "outputs": [
    {
     "data": {
      "text/plain": [
       "['Make', 'Model', 'Vehicle Class', 'Transmission', 'Fuel Type']"
      ]
     },
     "execution_count": 19,
     "metadata": {},
     "output_type": "execute_result"
    }
   ],
   "source": [
    "categ_cols"
   ]
  },
  {
   "cell_type": "code",
   "execution_count": 20,
   "metadata": {
    "ExecuteTime": {
     "end_time": "2023-05-23T01:54:49.042002400Z",
     "start_time": "2023-05-23T01:54:48.987010800Z"
    }
   },
   "outputs": [
    {
     "name": "stderr",
     "output_type": "stream",
     "text": [
      "C:\\Users\\olive\\AppData\\Local\\Temp/ipykernel_21984/442619102.py:3: SettingWithCopyWarning: \n",
      "A value is trying to be set on a copy of a slice from a DataFrame.\n",
      "Try using .loc[row_indexer,col_indexer] = value instead\n",
      "\n",
      "See the caveats in the documentation: https://pandas.pydata.org/pandas-docs/stable/user_guide/indexing.html#returning-a-view-versus-a-copy\n",
      "  X_train['Make']=label_encoder.fit_transform(X_train['Make'])\n",
      "C:\\Users\\olive\\AppData\\Local\\Temp/ipykernel_21984/442619102.py:4: SettingWithCopyWarning: \n",
      "A value is trying to be set on a copy of a slice from a DataFrame.\n",
      "Try using .loc[row_indexer,col_indexer] = value instead\n",
      "\n",
      "See the caveats in the documentation: https://pandas.pydata.org/pandas-docs/stable/user_guide/indexing.html#returning-a-view-versus-a-copy\n",
      "  X_test['Make']=label_encoder.fit_transform(X_test['Make'])\n",
      "C:\\Users\\olive\\AppData\\Local\\Temp/ipykernel_21984/442619102.py:6: SettingWithCopyWarning: \n",
      "A value is trying to be set on a copy of a slice from a DataFrame.\n",
      "Try using .loc[row_indexer,col_indexer] = value instead\n",
      "\n",
      "See the caveats in the documentation: https://pandas.pydata.org/pandas-docs/stable/user_guide/indexing.html#returning-a-view-versus-a-copy\n",
      "  X_train['Model'] =label_encoder.fit_transform(X_train['Model'])\n",
      "C:\\Users\\olive\\AppData\\Local\\Temp/ipykernel_21984/442619102.py:7: SettingWithCopyWarning: \n",
      "A value is trying to be set on a copy of a slice from a DataFrame.\n",
      "Try using .loc[row_indexer,col_indexer] = value instead\n",
      "\n",
      "See the caveats in the documentation: https://pandas.pydata.org/pandas-docs/stable/user_guide/indexing.html#returning-a-view-versus-a-copy\n",
      "  X_test['Model'] =label_encoder.fit_transform(X_test['Model'])\n",
      "C:\\Users\\olive\\AppData\\Local\\Temp/ipykernel_21984/442619102.py:9: SettingWithCopyWarning: \n",
      "A value is trying to be set on a copy of a slice from a DataFrame.\n",
      "Try using .loc[row_indexer,col_indexer] = value instead\n",
      "\n",
      "See the caveats in the documentation: https://pandas.pydata.org/pandas-docs/stable/user_guide/indexing.html#returning-a-view-versus-a-copy\n",
      "  X_train['Vehicle Class'] =label_encoder.fit_transform(X_train['Vehicle Class'])\n",
      "C:\\Users\\olive\\AppData\\Local\\Temp/ipykernel_21984/442619102.py:10: SettingWithCopyWarning: \n",
      "A value is trying to be set on a copy of a slice from a DataFrame.\n",
      "Try using .loc[row_indexer,col_indexer] = value instead\n",
      "\n",
      "See the caveats in the documentation: https://pandas.pydata.org/pandas-docs/stable/user_guide/indexing.html#returning-a-view-versus-a-copy\n",
      "  X_test['Vehicle Class'] =label_encoder.fit_transform(X_test['Vehicle Class'])\n",
      "C:\\Users\\olive\\AppData\\Local\\Temp/ipykernel_21984/442619102.py:12: SettingWithCopyWarning: \n",
      "A value is trying to be set on a copy of a slice from a DataFrame.\n",
      "Try using .loc[row_indexer,col_indexer] = value instead\n",
      "\n",
      "See the caveats in the documentation: https://pandas.pydata.org/pandas-docs/stable/user_guide/indexing.html#returning-a-view-versus-a-copy\n",
      "  X_train['Transmission'] =label_encoder.fit_transform(X_train['Transmission'])\n",
      "C:\\Users\\olive\\AppData\\Local\\Temp/ipykernel_21984/442619102.py:13: SettingWithCopyWarning: \n",
      "A value is trying to be set on a copy of a slice from a DataFrame.\n",
      "Try using .loc[row_indexer,col_indexer] = value instead\n",
      "\n",
      "See the caveats in the documentation: https://pandas.pydata.org/pandas-docs/stable/user_guide/indexing.html#returning-a-view-versus-a-copy\n",
      "  X_test['Transmission'] =label_encoder.fit_transform(X_test['Transmission'])\n",
      "C:\\Users\\olive\\AppData\\Local\\Temp/ipykernel_21984/442619102.py:15: SettingWithCopyWarning: \n",
      "A value is trying to be set on a copy of a slice from a DataFrame.\n",
      "Try using .loc[row_indexer,col_indexer] = value instead\n",
      "\n",
      "See the caveats in the documentation: https://pandas.pydata.org/pandas-docs/stable/user_guide/indexing.html#returning-a-view-versus-a-copy\n",
      "  X_train['Fuel Type'] =label_encoder.fit_transform(X_train['Fuel Type'])\n",
      "C:\\Users\\olive\\AppData\\Local\\Temp/ipykernel_21984/442619102.py:16: SettingWithCopyWarning: \n",
      "A value is trying to be set on a copy of a slice from a DataFrame.\n",
      "Try using .loc[row_indexer,col_indexer] = value instead\n",
      "\n",
      "See the caveats in the documentation: https://pandas.pydata.org/pandas-docs/stable/user_guide/indexing.html#returning-a-view-versus-a-copy\n",
      "  X_test['Fuel Type'] =label_encoder.fit_transform(X_test['Fuel Type'])\n"
     ]
    },
    {
     "data": {
      "text/html": [
       "<div>\n",
       "<style scoped>\n",
       "    .dataframe tbody tr th:only-of-type {\n",
       "        vertical-align: middle;\n",
       "    }\n",
       "\n",
       "    .dataframe tbody tr th {\n",
       "        vertical-align: top;\n",
       "    }\n",
       "\n",
       "    .dataframe thead th {\n",
       "        text-align: right;\n",
       "    }\n",
       "</style>\n",
       "<table border=\"1\" class=\"dataframe\">\n",
       "  <thead>\n",
       "    <tr style=\"text-align: right;\">\n",
       "      <th></th>\n",
       "      <th>Make</th>\n",
       "      <th>Model</th>\n",
       "      <th>Vehicle Class</th>\n",
       "      <th>Engine Size(L)</th>\n",
       "      <th>Cylinders</th>\n",
       "      <th>Transmission</th>\n",
       "      <th>Fuel Type</th>\n",
       "      <th>Fuel Consumption City (L/100 km)</th>\n",
       "      <th>Fuel Consumption Hwy (L/100 km)</th>\n",
       "      <th>Fuel Consumption Comb (L/100 km)</th>\n",
       "      <th>Fuel Consumption Comb (mpg)</th>\n",
       "    </tr>\n",
       "  </thead>\n",
       "  <tbody>\n",
       "    <tr>\n",
       "      <th>743</th>\n",
       "      <td>28</td>\n",
       "      <td>646</td>\n",
       "      <td>2</td>\n",
       "      <td>2.1</td>\n",
       "      <td>4</td>\n",
       "      <td>15</td>\n",
       "      <td>0</td>\n",
       "      <td>8.5</td>\n",
       "      <td>5.7</td>\n",
       "      <td>7.2</td>\n",
       "      <td>39</td>\n",
       "    </tr>\n",
       "    <tr>\n",
       "      <th>7027</th>\n",
       "      <td>20</td>\n",
       "      <td>1714</td>\n",
       "      <td>11</td>\n",
       "      <td>3.6</td>\n",
       "      <td>6</td>\n",
       "      <td>5</td>\n",
       "      <td>3</td>\n",
       "      <td>12.8</td>\n",
       "      <td>10.4</td>\n",
       "      <td>11.8</td>\n",
       "      <td>24</td>\n",
       "    </tr>\n",
       "    <tr>\n",
       "      <th>5879</th>\n",
       "      <td>15</td>\n",
       "      <td>1832</td>\n",
       "      <td>12</td>\n",
       "      <td>5.3</td>\n",
       "      <td>8</td>\n",
       "      <td>3</td>\n",
       "      <td>3</td>\n",
       "      <td>16.8</td>\n",
       "      <td>11.3</td>\n",
       "      <td>14.3</td>\n",
       "      <td>20</td>\n",
       "    </tr>\n",
       "    <tr>\n",
       "      <th>4974</th>\n",
       "      <td>20</td>\n",
       "      <td>890</td>\n",
       "      <td>12</td>\n",
       "      <td>6.4</td>\n",
       "      <td>8</td>\n",
       "      <td>5</td>\n",
       "      <td>4</td>\n",
       "      <td>18.3</td>\n",
       "      <td>12.6</td>\n",
       "      <td>15.7</td>\n",
       "      <td>18</td>\n",
       "    </tr>\n",
       "    <tr>\n",
       "      <th>546</th>\n",
       "      <td>18</td>\n",
       "      <td>1301</td>\n",
       "      <td>12</td>\n",
       "      <td>5.6</td>\n",
       "      <td>8</td>\n",
       "      <td>15</td>\n",
       "      <td>4</td>\n",
       "      <td>17.4</td>\n",
       "      <td>12.1</td>\n",
       "      <td>15.0</td>\n",
       "      <td>19</td>\n",
       "    </tr>\n",
       "  </tbody>\n",
       "</table>\n",
       "</div>"
      ],
      "text/plain": [
       "      Make  Model  Vehicle Class  Engine Size(L)  Cylinders  Transmission  \\\n",
       "743     28    646              2             2.1          4            15   \n",
       "7027    20   1714             11             3.6          6             5   \n",
       "5879    15   1832             12             5.3          8             3   \n",
       "4974    20    890             12             6.4          8             5   \n",
       "546     18   1301             12             5.6          8            15   \n",
       "\n",
       "      Fuel Type  Fuel Consumption City (L/100 km)  \\\n",
       "743           0                               8.5   \n",
       "7027          3                              12.8   \n",
       "5879          3                              16.8   \n",
       "4974          4                              18.3   \n",
       "546           4                              17.4   \n",
       "\n",
       "      Fuel Consumption Hwy (L/100 km)  Fuel Consumption Comb (L/100 km)  \\\n",
       "743                               5.7                               7.2   \n",
       "7027                             10.4                              11.8   \n",
       "5879                             11.3                              14.3   \n",
       "4974                             12.6                              15.7   \n",
       "546                              12.1                              15.0   \n",
       "\n",
       "      Fuel Consumption Comb (mpg)  \n",
       "743                            39  \n",
       "7027                           24  \n",
       "5879                           20  \n",
       "4974                           18  \n",
       "546                            19  "
      ]
     },
     "execution_count": 20,
     "metadata": {},
     "output_type": "execute_result"
    }
   ],
   "source": [
    "from sklearn.preprocessing import LabelEncoder \n",
    "label_encoder = LabelEncoder()\n",
    "X_train['Make']=label_encoder.fit_transform(X_train['Make']) \n",
    "X_test['Make']=label_encoder.fit_transform(X_test['Make']) \n",
    "\n",
    "X_train['Model'] =label_encoder.fit_transform(X_train['Model'])\n",
    "X_test['Model'] =label_encoder.fit_transform(X_test['Model']) \n",
    "\n",
    "X_train['Vehicle Class'] =label_encoder.fit_transform(X_train['Vehicle Class']) \n",
    "X_test['Vehicle Class'] =label_encoder.fit_transform(X_test['Vehicle Class']) \n",
    "\n",
    "X_train['Transmission'] =label_encoder.fit_transform(X_train['Transmission']) \n",
    "X_test['Transmission'] =label_encoder.fit_transform(X_test['Transmission']) \n",
    "\n",
    "X_train['Fuel Type'] =label_encoder.fit_transform(X_train['Fuel Type']) \n",
    "X_test['Fuel Type'] =label_encoder.fit_transform(X_test['Fuel Type']) \n",
    "\n",
    "X_train.head()"
   ]
  },
  {
   "attachments": {},
   "cell_type": "markdown",
   "metadata": {},
   "source": [
    "Convertimos los datos categóricos a numéricos usando label enconder, y podemos ver que ya todas las varibales tanto de X train y X test son valores numéricos."
   ]
  },
  {
   "cell_type": "code",
   "execution_count": 21,
   "metadata": {
    "ExecuteTime": {
     "end_time": "2023-05-23T01:54:49.050124500Z",
     "start_time": "2023-05-23T01:54:49.033369400Z"
    }
   },
   "outputs": [
    {
     "data": {
      "text/plain": [
       "(5169, 11)"
      ]
     },
     "execution_count": 21,
     "metadata": {},
     "output_type": "execute_result"
    }
   ],
   "source": [
    "X_train.shape"
   ]
  },
  {
   "attachments": {},
   "cell_type": "markdown",
   "metadata": {},
   "source": [
    "Podemos ver que efectivamente, tenemos tan solo el 70% de los datos iniciales, con los cuáles se entrenará el modelo. Además podemos ver que sólo tenemos 11 columnas, y no 12 ya que no está la variable a predecir."
   ]
  },
  {
   "attachments": {},
   "cell_type": "markdown",
   "metadata": {},
   "source": [
    "Por último, verificamos que estas nuevas variables numéricas estén correlacionadas"
   ]
  },
  {
   "cell_type": "code",
   "execution_count": 22,
   "metadata": {
    "ExecuteTime": {
     "end_time": "2023-05-23T01:54:49.153991700Z",
     "start_time": "2023-05-23T01:54:49.049002500Z"
    }
   },
   "outputs": [
    {
     "data": {
      "text/html": [
       "<style  type=\"text/css\" >\n",
       "#T_eae36_row0_col0,#T_eae36_row1_col1,#T_eae36_row2_col2,#T_eae36_row3_col3,#T_eae36_row4_col4,#T_eae36_row5_col5,#T_eae36_row6_col6,#T_eae36_row7_col7,#T_eae36_row7_col9,#T_eae36_row8_col8,#T_eae36_row9_col7,#T_eae36_row9_col9,#T_eae36_row10_col10{\n",
       "            background-color:  #b40426;\n",
       "            color:  #f1f1f1;\n",
       "        }#T_eae36_row0_col1{\n",
       "            background-color:  #5d7ce6;\n",
       "            color:  #000000;\n",
       "        }#T_eae36_row0_col2,#T_eae36_row6_col0{\n",
       "            background-color:  #7b9ff9;\n",
       "            color:  #000000;\n",
       "        }#T_eae36_row0_col3{\n",
       "            background-color:  #b1cbfc;\n",
       "            color:  #000000;\n",
       "        }#T_eae36_row0_col4,#T_eae36_row3_col2{\n",
       "            background-color:  #a9c6fd;\n",
       "            color:  #000000;\n",
       "        }#T_eae36_row0_col5{\n",
       "            background-color:  #bcd2f7;\n",
       "            color:  #000000;\n",
       "        }#T_eae36_row0_col6,#T_eae36_row2_col5{\n",
       "            background-color:  #6b8df0;\n",
       "            color:  #000000;\n",
       "        }#T_eae36_row0_col7{\n",
       "            background-color:  #bbd1f8;\n",
       "            color:  #000000;\n",
       "        }#T_eae36_row0_col8,#T_eae36_row6_col5{\n",
       "            background-color:  #c4d5f3;\n",
       "            color:  #000000;\n",
       "        }#T_eae36_row0_col9{\n",
       "            background-color:  #bfd3f6;\n",
       "            color:  #000000;\n",
       "        }#T_eae36_row0_col10{\n",
       "            background-color:  #edd2c3;\n",
       "            color:  #000000;\n",
       "        }#T_eae36_row1_col0{\n",
       "            background-color:  #7597f6;\n",
       "            color:  #000000;\n",
       "        }#T_eae36_row1_col2{\n",
       "            background-color:  #b5cdfa;\n",
       "            color:  #000000;\n",
       "        }#T_eae36_row1_col3,#T_eae36_row6_col3{\n",
       "            background-color:  #d5dbe5;\n",
       "            color:  #000000;\n",
       "        }#T_eae36_row1_col4{\n",
       "            background-color:  #cdd9ec;\n",
       "            color:  #000000;\n",
       "        }#T_eae36_row1_col5{\n",
       "            background-color:  #8db0fe;\n",
       "            color:  #000000;\n",
       "        }#T_eae36_row1_col6{\n",
       "            background-color:  #455cce;\n",
       "            color:  #f1f1f1;\n",
       "        }#T_eae36_row1_col7{\n",
       "            background-color:  #e5d8d1;\n",
       "            color:  #000000;\n",
       "        }#T_eae36_row1_col8{\n",
       "            background-color:  #ead5c9;\n",
       "            color:  #000000;\n",
       "        }#T_eae36_row1_col9{\n",
       "            background-color:  #e7d7ce;\n",
       "            color:  #000000;\n",
       "        }#T_eae36_row1_col10,#T_eae36_row6_col9{\n",
       "            background-color:  #cbd8ee;\n",
       "            color:  #000000;\n",
       "        }#T_eae36_row2_col0{\n",
       "            background-color:  #6687ed;\n",
       "            color:  #000000;\n",
       "        }#T_eae36_row2_col1{\n",
       "            background-color:  #90b2fe;\n",
       "            color:  #000000;\n",
       "        }#T_eae36_row2_col3{\n",
       "            background-color:  #e0dbd8;\n",
       "            color:  #000000;\n",
       "        }#T_eae36_row2_col4{\n",
       "            background-color:  #d8dce2;\n",
       "            color:  #000000;\n",
       "        }#T_eae36_row2_col6,#T_eae36_row3_col10{\n",
       "            background-color:  #5572df;\n",
       "            color:  #000000;\n",
       "        }#T_eae36_row2_col7{\n",
       "            background-color:  #f2c9b4;\n",
       "            color:  #000000;\n",
       "        }#T_eae36_row2_col8{\n",
       "            background-color:  #f6bea4;\n",
       "            color:  #000000;\n",
       "        }#T_eae36_row2_col9{\n",
       "            background-color:  #f4c5ad;\n",
       "            color:  #000000;\n",
       "        }#T_eae36_row2_col10{\n",
       "            background-color:  #abc8fd;\n",
       "            color:  #000000;\n",
       "        }#T_eae36_row3_col0{\n",
       "            background-color:  #465ecf;\n",
       "            color:  #f1f1f1;\n",
       "        }#T_eae36_row3_col1{\n",
       "            background-color:  #688aef;\n",
       "            color:  #000000;\n",
       "        }#T_eae36_row3_col4,#T_eae36_row4_col3{\n",
       "            background-color:  #c32e31;\n",
       "            color:  #f1f1f1;\n",
       "        }#T_eae36_row3_col5,#T_eae36_row9_col0{\n",
       "            background-color:  #4055c8;\n",
       "            color:  #f1f1f1;\n",
       "        }#T_eae36_row3_col6{\n",
       "            background-color:  #7093f3;\n",
       "            color:  #000000;\n",
       "        }#T_eae36_row3_col7{\n",
       "            background-color:  #d24b40;\n",
       "            color:  #f1f1f1;\n",
       "        }#T_eae36_row3_col8,#T_eae36_row9_col4{\n",
       "            background-color:  #de614d;\n",
       "            color:  #000000;\n",
       "        }#T_eae36_row3_col9,#T_eae36_row7_col3{\n",
       "            background-color:  #d55042;\n",
       "            color:  #000000;\n",
       "        }#T_eae36_row4_col0{\n",
       "            background-color:  #4257c9;\n",
       "            color:  #f1f1f1;\n",
       "        }#T_eae36_row4_col1{\n",
       "            background-color:  #6180e9;\n",
       "            color:  #000000;\n",
       "        }#T_eae36_row4_col2,#T_eae36_row5_col9,#T_eae36_row10_col0{\n",
       "            background-color:  #9ebeff;\n",
       "            color:  #000000;\n",
       "        }#T_eae36_row4_col5,#T_eae36_row8_col0{\n",
       "            background-color:  #4c66d6;\n",
       "            color:  #000000;\n",
       "        }#T_eae36_row4_col6{\n",
       "            background-color:  #85a8fc;\n",
       "            color:  #000000;\n",
       "        }#T_eae36_row4_col7,#T_eae36_row9_col3{\n",
       "            background-color:  #d75445;\n",
       "            color:  #000000;\n",
       "        }#T_eae36_row4_col8{\n",
       "            background-color:  #e36c55;\n",
       "            color:  #000000;\n",
       "        }#T_eae36_row4_col9,#T_eae36_row7_col4{\n",
       "            background-color:  #da5a49;\n",
       "            color:  #000000;\n",
       "        }#T_eae36_row4_col10,#T_eae36_row5_col2{\n",
       "            background-color:  #5b7ae5;\n",
       "            color:  #000000;\n",
       "        }#T_eae36_row5_col0,#T_eae36_row5_col7{\n",
       "            background-color:  #9fbfff;\n",
       "            color:  #000000;\n",
       "        }#T_eae36_row5_col1{\n",
       "            background-color:  #506bda;\n",
       "            color:  #000000;\n",
       "        }#T_eae36_row5_col3{\n",
       "            background-color:  #8caffe;\n",
       "            color:  #000000;\n",
       "        }#T_eae36_row5_col4{\n",
       "            background-color:  #92b4fe;\n",
       "            color:  #000000;\n",
       "        }#T_eae36_row5_col6{\n",
       "            background-color:  #9bbcff;\n",
       "            color:  #000000;\n",
       "        }#T_eae36_row5_col8{\n",
       "            background-color:  #9abbff;\n",
       "            color:  #000000;\n",
       "        }#T_eae36_row5_col10{\n",
       "            background-color:  #f7bca1;\n",
       "            color:  #000000;\n",
       "        }#T_eae36_row6_col1{\n",
       "            background-color:  #3d50c3;\n",
       "            color:  #f1f1f1;\n",
       "        }#T_eae36_row6_col2{\n",
       "            background-color:  #7a9df8;\n",
       "            color:  #000000;\n",
       "        }#T_eae36_row6_col4{\n",
       "            background-color:  #dcdddd;\n",
       "            color:  #000000;\n",
       "        }#T_eae36_row6_col7{\n",
       "            background-color:  #cedaeb;\n",
       "            color:  #000000;\n",
       "        }#T_eae36_row6_col8{\n",
       "            background-color:  #c3d5f4;\n",
       "            color:  #000000;\n",
       "        }#T_eae36_row6_col10{\n",
       "            background-color:  #d4dbe6;\n",
       "            color:  #000000;\n",
       "        }#T_eae36_row7_col0,#T_eae36_row7_col10,#T_eae36_row8_col5,#T_eae36_row8_col6,#T_eae36_row9_col5,#T_eae36_row9_col10,#T_eae36_row10_col1,#T_eae36_row10_col2,#T_eae36_row10_col3,#T_eae36_row10_col4,#T_eae36_row10_col7,#T_eae36_row10_col8,#T_eae36_row10_col9{\n",
       "            background-color:  #3b4cc0;\n",
       "            color:  #f1f1f1;\n",
       "        }#T_eae36_row7_col1{\n",
       "            background-color:  #7295f4;\n",
       "            color:  #000000;\n",
       "        }#T_eae36_row7_col2{\n",
       "            background-color:  #c1d4f4;\n",
       "            color:  #000000;\n",
       "        }#T_eae36_row7_col5{\n",
       "            background-color:  #3c4ec2;\n",
       "            color:  #f1f1f1;\n",
       "        }#T_eae36_row7_col6{\n",
       "            background-color:  #4961d2;\n",
       "            color:  #f1f1f1;\n",
       "        }#T_eae36_row7_col8{\n",
       "            background-color:  #be242e;\n",
       "            color:  #f1f1f1;\n",
       "        }#T_eae36_row8_col1{\n",
       "            background-color:  #84a7fc;\n",
       "            color:  #000000;\n",
       "        }#T_eae36_row8_col2{\n",
       "            background-color:  #d6dce4;\n",
       "            color:  #000000;\n",
       "        }#T_eae36_row8_col3{\n",
       "            background-color:  #e16751;\n",
       "            color:  #000000;\n",
       "        }#T_eae36_row8_col4{\n",
       "            background-color:  #e7745b;\n",
       "            color:  #000000;\n",
       "        }#T_eae36_row8_col7{\n",
       "            background-color:  #bd1f2d;\n",
       "            color:  #f1f1f1;\n",
       "        }#T_eae36_row8_col9,#T_eae36_row9_col8{\n",
       "            background-color:  #b8122a;\n",
       "            color:  #f1f1f1;\n",
       "        }#T_eae36_row8_col10{\n",
       "            background-color:  #3f53c6;\n",
       "            color:  #f1f1f1;\n",
       "        }#T_eae36_row9_col1{\n",
       "            background-color:  #799cf8;\n",
       "            color:  #000000;\n",
       "        }#T_eae36_row9_col2{\n",
       "            background-color:  #cad8ef;\n",
       "            color:  #000000;\n",
       "        }#T_eae36_row9_col6{\n",
       "            background-color:  #445acc;\n",
       "            color:  #f1f1f1;\n",
       "        }#T_eae36_row10_col5{\n",
       "            background-color:  #dedcdb;\n",
       "            color:  #000000;\n",
       "        }#T_eae36_row10_col6{\n",
       "            background-color:  #536edd;\n",
       "            color:  #000000;\n",
       "        }</style><table id=\"T_eae36_\" ><thead>    <tr>        <th class=\"blank level0\" ></th>        <th class=\"col_heading level0 col0\" >Make</th>        <th class=\"col_heading level0 col1\" >Model</th>        <th class=\"col_heading level0 col2\" >Vehicle Class</th>        <th class=\"col_heading level0 col3\" >Engine Size(L)</th>        <th class=\"col_heading level0 col4\" >Cylinders</th>        <th class=\"col_heading level0 col5\" >Transmission</th>        <th class=\"col_heading level0 col6\" >Fuel Type</th>        <th class=\"col_heading level0 col7\" >Fuel Consumption City (L/100 km)</th>        <th class=\"col_heading level0 col8\" >Fuel Consumption Hwy (L/100 km)</th>        <th class=\"col_heading level0 col9\" >Fuel Consumption Comb (L/100 km)</th>        <th class=\"col_heading level0 col10\" >Fuel Consumption Comb (mpg)</th>    </tr></thead><tbody>\n",
       "                <tr>\n",
       "                        <th id=\"T_eae36_level0_row0\" class=\"row_heading level0 row0\" >Make</th>\n",
       "                        <td id=\"T_eae36_row0_col0\" class=\"data row0 col0\" >1.000000</td>\n",
       "                        <td id=\"T_eae36_row0_col1\" class=\"data row0 col1\" >0.028734</td>\n",
       "                        <td id=\"T_eae36_row0_col2\" class=\"data row0 col2\" >-0.019778</td>\n",
       "                        <td id=\"T_eae36_row0_col3\" class=\"data row0 col3\" >-0.134738</td>\n",
       "                        <td id=\"T_eae36_row0_col4\" class=\"data row0 col4\" >-0.151820</td>\n",
       "                        <td id=\"T_eae36_row0_col5\" class=\"data row0 col5\" >0.173979</td>\n",
       "                        <td id=\"T_eae36_row0_col6\" class=\"data row0 col6\" >0.052984</td>\n",
       "                        <td id=\"T_eae36_row0_col7\" class=\"data row0 col7\" >-0.184030</td>\n",
       "                        <td id=\"T_eae36_row0_col8\" class=\"data row0 col8\" >-0.110073</td>\n",
       "                        <td id=\"T_eae36_row0_col9\" class=\"data row0 col9\" >-0.160799</td>\n",
       "                        <td id=\"T_eae36_row0_col10\" class=\"data row0 col10\" >0.168652</td>\n",
       "            </tr>\n",
       "            <tr>\n",
       "                        <th id=\"T_eae36_level0_row1\" class=\"row_heading level0 row1\" >Model</th>\n",
       "                        <td id=\"T_eae36_row1_col0\" class=\"data row1 col0\" >0.028734</td>\n",
       "                        <td id=\"T_eae36_row1_col1\" class=\"data row1 col1\" >1.000000</td>\n",
       "                        <td id=\"T_eae36_row1_col2\" class=\"data row1 col2\" >0.191411</td>\n",
       "                        <td id=\"T_eae36_row1_col3\" class=\"data row1 col3\" >0.068896</td>\n",
       "                        <td id=\"T_eae36_row1_col4\" class=\"data row1 col4\" >0.044436</td>\n",
       "                        <td id=\"T_eae36_row1_col5\" class=\"data row1 col5\" >-0.011602</td>\n",
       "                        <td id=\"T_eae36_row1_col6\" class=\"data row1 col6\" >-0.079606</td>\n",
       "                        <td id=\"T_eae36_row1_col7\" class=\"data row1 col7\" >0.096731</td>\n",
       "                        <td id=\"T_eae36_row1_col8\" class=\"data row1 col8\" >0.154667</td>\n",
       "                        <td id=\"T_eae36_row1_col9\" class=\"data row1 col9\" >0.117815</td>\n",
       "                        <td id=\"T_eae36_row1_col10\" class=\"data row1 col10\" >-0.091072</td>\n",
       "            </tr>\n",
       "            <tr>\n",
       "                        <th id=\"T_eae36_level0_row2\" class=\"row_heading level0 row2\" >Vehicle Class</th>\n",
       "                        <td id=\"T_eae36_row2_col0\" class=\"data row2 col0\" >-0.019778</td>\n",
       "                        <td id=\"T_eae36_row2_col1\" class=\"data row2 col1\" >0.191411</td>\n",
       "                        <td id=\"T_eae36_row2_col2\" class=\"data row2 col2\" >1.000000</td>\n",
       "                        <td id=\"T_eae36_row2_col3\" class=\"data row2 col3\" >0.144973</td>\n",
       "                        <td id=\"T_eae36_row2_col4\" class=\"data row2 col4\" >0.106871</td>\n",
       "                        <td id=\"T_eae36_row2_col5\" class=\"data row2 col5\" >-0.140778</td>\n",
       "                        <td id=\"T_eae36_row2_col6\" class=\"data row2 col6\" >-0.022669</td>\n",
       "                        <td id=\"T_eae36_row2_col7\" class=\"data row2 col7\" >0.240675</td>\n",
       "                        <td id=\"T_eae36_row2_col8\" class=\"data row2 col8\" >0.330815</td>\n",
       "                        <td id=\"T_eae36_row2_col9\" class=\"data row2 col9\" >0.274470</td>\n",
       "                        <td id=\"T_eae36_row2_col10\" class=\"data row2 col10\" >-0.276553</td>\n",
       "            </tr>\n",
       "            <tr>\n",
       "                        <th id=\"T_eae36_level0_row3\" class=\"row_heading level0 row3\" >Engine Size(L)</th>\n",
       "                        <td id=\"T_eae36_row3_col0\" class=\"data row3 col0\" >-0.134738</td>\n",
       "                        <td id=\"T_eae36_row3_col1\" class=\"data row3 col1\" >0.068896</td>\n",
       "                        <td id=\"T_eae36_row3_col2\" class=\"data row3 col2\" >0.144973</td>\n",
       "                        <td id=\"T_eae36_row3_col3\" class=\"data row3 col3\" >1.000000</td>\n",
       "                        <td id=\"T_eae36_row3_col4\" class=\"data row3 col4\" >0.927595</td>\n",
       "                        <td id=\"T_eae36_row3_col5\" class=\"data row3 col5\" >-0.321782</td>\n",
       "                        <td id=\"T_eae36_row3_col6\" class=\"data row3 col6\" >0.069707</td>\n",
       "                        <td id=\"T_eae36_row3_col7\" class=\"data row3 col7\" >0.830812</td>\n",
       "                        <td id=\"T_eae36_row3_col8\" class=\"data row3 col8\" >0.758613</td>\n",
       "                        <td id=\"T_eae36_row3_col9\" class=\"data row3 col9\" >0.815765</td>\n",
       "                        <td id=\"T_eae36_row3_col10\" class=\"data row3 col10\" >-0.758445</td>\n",
       "            </tr>\n",
       "            <tr>\n",
       "                        <th id=\"T_eae36_level0_row4\" class=\"row_heading level0 row4\" >Cylinders</th>\n",
       "                        <td id=\"T_eae36_row4_col0\" class=\"data row4 col0\" >-0.151820</td>\n",
       "                        <td id=\"T_eae36_row4_col1\" class=\"data row4 col1\" >0.044436</td>\n",
       "                        <td id=\"T_eae36_row4_col2\" class=\"data row4 col2\" >0.106871</td>\n",
       "                        <td id=\"T_eae36_row4_col3\" class=\"data row4 col3\" >0.927595</td>\n",
       "                        <td id=\"T_eae36_row4_col4\" class=\"data row4 col4\" >1.000000</td>\n",
       "                        <td id=\"T_eae36_row4_col5\" class=\"data row4 col5\" >-0.270372</td>\n",
       "                        <td id=\"T_eae36_row4_col6\" class=\"data row4 col6\" >0.136557</td>\n",
       "                        <td id=\"T_eae36_row4_col7\" class=\"data row4 col7\" >0.801906</td>\n",
       "                        <td id=\"T_eae36_row4_col8\" class=\"data row4 col8\" >0.714381</td>\n",
       "                        <td id=\"T_eae36_row4_col9\" class=\"data row4 col9\" >0.781128</td>\n",
       "                        <td id=\"T_eae36_row4_col10\" class=\"data row4 col10\" >-0.721352</td>\n",
       "            </tr>\n",
       "            <tr>\n",
       "                        <th id=\"T_eae36_level0_row5\" class=\"row_heading level0 row5\" >Transmission</th>\n",
       "                        <td id=\"T_eae36_row5_col0\" class=\"data row5 col0\" >0.173979</td>\n",
       "                        <td id=\"T_eae36_row5_col1\" class=\"data row5 col1\" >-0.011602</td>\n",
       "                        <td id=\"T_eae36_row5_col2\" class=\"data row5 col2\" >-0.140778</td>\n",
       "                        <td id=\"T_eae36_row5_col3\" class=\"data row5 col3\" >-0.321782</td>\n",
       "                        <td id=\"T_eae36_row5_col4\" class=\"data row5 col4\" >-0.270372</td>\n",
       "                        <td id=\"T_eae36_row5_col5\" class=\"data row5 col5\" >1.000000</td>\n",
       "                        <td id=\"T_eae36_row5_col6\" class=\"data row5 col6\" >0.208128</td>\n",
       "                        <td id=\"T_eae36_row5_col7\" class=\"data row5 col7\" >-0.343103</td>\n",
       "                        <td id=\"T_eae36_row5_col8\" class=\"data row5 col8\" >-0.348935</td>\n",
       "                        <td id=\"T_eae36_row5_col9\" class=\"data row5 col9\" >-0.349729</td>\n",
       "                        <td id=\"T_eae36_row5_col10\" class=\"data row5 col10\" >0.330515</td>\n",
       "            </tr>\n",
       "            <tr>\n",
       "                        <th id=\"T_eae36_level0_row6\" class=\"row_heading level0 row6\" >Fuel Type</th>\n",
       "                        <td id=\"T_eae36_row6_col0\" class=\"data row6 col0\" >0.052984</td>\n",
       "                        <td id=\"T_eae36_row6_col1\" class=\"data row6 col1\" >-0.079606</td>\n",
       "                        <td id=\"T_eae36_row6_col2\" class=\"data row6 col2\" >-0.022669</td>\n",
       "                        <td id=\"T_eae36_row6_col3\" class=\"data row6 col3\" >0.069707</td>\n",
       "                        <td id=\"T_eae36_row6_col4\" class=\"data row6 col4\" >0.136557</td>\n",
       "                        <td id=\"T_eae36_row6_col5\" class=\"data row6 col5\" >0.208128</td>\n",
       "                        <td id=\"T_eae36_row6_col6\" class=\"data row6 col6\" >1.000000</td>\n",
       "                        <td id=\"T_eae36_row6_col7\" class=\"data row6 col7\" >-0.062591</td>\n",
       "                        <td id=\"T_eae36_row6_col8\" class=\"data row6 col8\" >-0.119054</td>\n",
       "                        <td id=\"T_eae36_row6_col9\" class=\"data row6 col9\" >-0.083180</td>\n",
       "                        <td id=\"T_eae36_row6_col10\" class=\"data row6 col10\" >-0.030721</td>\n",
       "            </tr>\n",
       "            <tr>\n",
       "                        <th id=\"T_eae36_level0_row7\" class=\"row_heading level0 row7\" >Fuel Consumption City (L/100 km)</th>\n",
       "                        <td id=\"T_eae36_row7_col0\" class=\"data row7 col0\" >-0.184030</td>\n",
       "                        <td id=\"T_eae36_row7_col1\" class=\"data row7 col1\" >0.096731</td>\n",
       "                        <td id=\"T_eae36_row7_col2\" class=\"data row7 col2\" >0.240675</td>\n",
       "                        <td id=\"T_eae36_row7_col3\" class=\"data row7 col3\" >0.830812</td>\n",
       "                        <td id=\"T_eae36_row7_col4\" class=\"data row7 col4\" >0.801906</td>\n",
       "                        <td id=\"T_eae36_row7_col5\" class=\"data row7 col5\" >-0.343103</td>\n",
       "                        <td id=\"T_eae36_row7_col6\" class=\"data row7 col6\" >-0.062591</td>\n",
       "                        <td id=\"T_eae36_row7_col7\" class=\"data row7 col7\" >1.000000</td>\n",
       "                        <td id=\"T_eae36_row7_col8\" class=\"data row7 col8\" >0.947920</td>\n",
       "                        <td id=\"T_eae36_row7_col9\" class=\"data row7 col9\" >0.993823</td>\n",
       "                        <td id=\"T_eae36_row7_col10\" class=\"data row7 col10\" >-0.926982</td>\n",
       "            </tr>\n",
       "            <tr>\n",
       "                        <th id=\"T_eae36_level0_row8\" class=\"row_heading level0 row8\" >Fuel Consumption Hwy (L/100 km)</th>\n",
       "                        <td id=\"T_eae36_row8_col0\" class=\"data row8 col0\" >-0.110073</td>\n",
       "                        <td id=\"T_eae36_row8_col1\" class=\"data row8 col1\" >0.154667</td>\n",
       "                        <td id=\"T_eae36_row8_col2\" class=\"data row8 col2\" >0.330815</td>\n",
       "                        <td id=\"T_eae36_row8_col3\" class=\"data row8 col3\" >0.758613</td>\n",
       "                        <td id=\"T_eae36_row8_col4\" class=\"data row8 col4\" >0.714381</td>\n",
       "                        <td id=\"T_eae36_row8_col5\" class=\"data row8 col5\" >-0.348935</td>\n",
       "                        <td id=\"T_eae36_row8_col6\" class=\"data row8 col6\" >-0.119054</td>\n",
       "                        <td id=\"T_eae36_row8_col7\" class=\"data row8 col7\" >0.947920</td>\n",
       "                        <td id=\"T_eae36_row8_col8\" class=\"data row8 col8\" >1.000000</td>\n",
       "                        <td id=\"T_eae36_row8_col9\" class=\"data row8 col9\" >0.977127</td>\n",
       "                        <td id=\"T_eae36_row8_col10\" class=\"data row8 col10\" >-0.890472</td>\n",
       "            </tr>\n",
       "            <tr>\n",
       "                        <th id=\"T_eae36_level0_row9\" class=\"row_heading level0 row9\" >Fuel Consumption Comb (L/100 km)</th>\n",
       "                        <td id=\"T_eae36_row9_col0\" class=\"data row9 col0\" >-0.160799</td>\n",
       "                        <td id=\"T_eae36_row9_col1\" class=\"data row9 col1\" >0.117815</td>\n",
       "                        <td id=\"T_eae36_row9_col2\" class=\"data row9 col2\" >0.274470</td>\n",
       "                        <td id=\"T_eae36_row9_col3\" class=\"data row9 col3\" >0.815765</td>\n",
       "                        <td id=\"T_eae36_row9_col4\" class=\"data row9 col4\" >0.781128</td>\n",
       "                        <td id=\"T_eae36_row9_col5\" class=\"data row9 col5\" >-0.349729</td>\n",
       "                        <td id=\"T_eae36_row9_col6\" class=\"data row9 col6\" >-0.083180</td>\n",
       "                        <td id=\"T_eae36_row9_col7\" class=\"data row9 col7\" >0.993823</td>\n",
       "                        <td id=\"T_eae36_row9_col8\" class=\"data row9 col8\" >0.977127</td>\n",
       "                        <td id=\"T_eae36_row9_col9\" class=\"data row9 col9\" >1.000000</td>\n",
       "                        <td id=\"T_eae36_row9_col10\" class=\"data row9 col10\" >-0.925523</td>\n",
       "            </tr>\n",
       "            <tr>\n",
       "                        <th id=\"T_eae36_level0_row10\" class=\"row_heading level0 row10\" >Fuel Consumption Comb (mpg)</th>\n",
       "                        <td id=\"T_eae36_row10_col0\" class=\"data row10 col0\" >0.168652</td>\n",
       "                        <td id=\"T_eae36_row10_col1\" class=\"data row10 col1\" >-0.091072</td>\n",
       "                        <td id=\"T_eae36_row10_col2\" class=\"data row10 col2\" >-0.276553</td>\n",
       "                        <td id=\"T_eae36_row10_col3\" class=\"data row10 col3\" >-0.758445</td>\n",
       "                        <td id=\"T_eae36_row10_col4\" class=\"data row10 col4\" >-0.721352</td>\n",
       "                        <td id=\"T_eae36_row10_col5\" class=\"data row10 col5\" >0.330515</td>\n",
       "                        <td id=\"T_eae36_row10_col6\" class=\"data row10 col6\" >-0.030721</td>\n",
       "                        <td id=\"T_eae36_row10_col7\" class=\"data row10 col7\" >-0.926982</td>\n",
       "                        <td id=\"T_eae36_row10_col8\" class=\"data row10 col8\" >-0.890472</td>\n",
       "                        <td id=\"T_eae36_row10_col9\" class=\"data row10 col9\" >-0.925523</td>\n",
       "                        <td id=\"T_eae36_row10_col10\" class=\"data row10 col10\" >1.000000</td>\n",
       "            </tr>\n",
       "    </tbody></table>"
      ],
      "text/plain": [
       "<pandas.io.formats.style.Styler at 0x294dd6d42b0>"
      ]
     },
     "execution_count": 22,
     "metadata": {},
     "output_type": "execute_result"
    }
   ],
   "source": [
    "corr = X_train.corr()\n",
    "corr.style.background_gradient(cmap='coolwarm')"
   ]
  },
  {
   "attachments": {},
   "cell_type": "markdown",
   "metadata": {},
   "source": [
    "De las 5 variables categóricas convertidas a numéricas, 3 de ellas tienen una buena correlación con los demás datos. \n",
    "La marca del vehículo, el tipo de coche y la transmición están correlacionadas con las 3 variables de Fuel Consumption, esto nos servirá para hacer el modelo aún mejor. \n",
    "Pero las métricas de tipo de vehículo y tipo de gasolina no aportan mucha información. Estas las quitaré ya que, como no tienen una alta correlación con ninguno de los demás datos, serán más un estorbo que una ayuda. Porbaremos el modelo sin estas variables y procederemos a hacer una análisis"
   ]
  },
  {
   "cell_type": "code",
   "execution_count": 23,
   "metadata": {
    "ExecuteTime": {
     "end_time": "2023-05-23T01:54:49.208989900Z",
     "start_time": "2023-05-23T01:54:49.110994900Z"
    }
   },
   "outputs": [
    {
     "name": "stderr",
     "output_type": "stream",
     "text": [
      "c:\\users\\olive\\appdata\\local\\programs\\python\\python39\\lib\\site-packages\\pandas\\core\\frame.py:4308: SettingWithCopyWarning: \n",
      "A value is trying to be set on a copy of a slice from a DataFrame\n",
      "\n",
      "See the caveats in the documentation: https://pandas.pydata.org/pandas-docs/stable/user_guide/indexing.html#returning-a-view-versus-a-copy\n",
      "  return super().drop(\n"
     ]
    }
   ],
   "source": [
    "X_train.drop(['Vehicle Class','Fuel Type'],axis=1,inplace=True)\n",
    "X_test.drop(['Vehicle Class','Fuel Type'],axis=1,inplace=True)"
   ]
  },
  {
   "cell_type": "code",
   "execution_count": 26,
   "metadata": {
    "ExecuteTime": {
     "end_time": "2023-05-23T01:54:49.999320400Z",
     "start_time": "2023-05-23T01:54:49.210991600Z"
    }
   },
   "outputs": [
    {
     "data": {
      "image/png": "[encoded data removed]",
      "text/plain": [
       "<Figure size 1440x360 with 6 Axes>"
      ]
     },
     "metadata": {
      "needs_background": "light"
     },
     "output_type": "display_data"
    }
   ],
   "source": [
    "import matplotlib.pyplot as plt\n",
    "fig, ax = plt.subplots(1,6)\n",
    "fig.set_size_inches(20, 5)\n",
    "ax[0].boxplot(X_train['Cylinders'])\n",
    "ax[0].set_xticklabels(['Cylinders'])\n",
    "ax[0].set_ylabel('Valor')\n",
    "ax[1].boxplot(X_train['Engine Size(L)'])\n",
    "ax[1].set_xticklabels(['Engine Size(L)'])\n",
    "ax[1].set_ylabel('Valor')\n",
    "ax[2].boxplot(X_train['Fuel Consumption City (L/100 km)'])\n",
    "ax[2].set_xticklabels(['FC City (L/100 km)'])\n",
    "ax[3].boxplot(X_train['Fuel Consumption Hwy (L/100 km)'])\n",
    "ax[3].set_xticklabels(['FC Hwy (L/100 km)'])\n",
    "ax[4].boxplot(X_train['Fuel Consumption Comb (L/100 km)'])\n",
    "ax[4].set_xticklabels(['FC Comb (L/100 km)'])\n",
    "ax[5].boxplot(X_train['Fuel Consumption Comb (mpg)'])\n",
    "ax[5].set_xticklabels(['FC Comb (mpg)'])\n",
    "\n",
    "ax[2].set_ylabel('Valor')\n",
    "plt.show()"
   ]
  },
  {
   "attachments": {},
   "cell_type": "markdown",
   "metadata": {},
   "source": [
    "Podemos ver la distribución de las variables numéricas, vemos que en general en todas las variables el boxplot se parece mucho, tiene una buena dispersión de datos entre el primer y tercer cuartil, y desupués el cuarto cuartuil incrementa su valor y hay una gran cantidad de outliers.\n",
    "Con esta información, podemos hacer una suposición de que los vehículos con datos después del 3 cuartil y los outliers son los principales causantes de la contaminación de CO2."
   ]
  },
  {
   "attachments": {},
   "cell_type": "markdown",
   "metadata": {},
   "source": [
    "### Hacemos una regresión lineal múltiple con sklearn"
   ]
  },
  {
   "cell_type": "code",
   "execution_count": 27,
   "metadata": {
    "ExecuteTime": {
     "end_time": "2023-05-23T01:54:50.000105Z",
     "start_time": "2023-05-23T01:54:49.974105900Z"
    }
   },
   "outputs": [],
   "source": [
    "from sklearn.metrics import mean_squared_error\n",
    "from sklearn.metrics import mean_absolute_error "
   ]
  },
  {
   "cell_type": "code",
   "execution_count": 28,
   "metadata": {
    "ExecuteTime": {
     "end_time": "2023-05-23T01:54:50.101103300Z",
     "start_time": "2023-05-23T01:54:50.000105Z"
    }
   },
   "outputs": [
    {
     "name": "stdout",
     "output_type": "stream",
     "text": [
      "Observaciones para el training: 5169 Observaciones para el test: 2216\n"
     ]
    }
   ],
   "source": [
    "print('Observaciones para el training:',X_train.shape[0],'Observaciones para el test:',X_test.shape[0])"
   ]
  },
  {
   "cell_type": "code",
   "execution_count": 29,
   "metadata": {
    "ExecuteTime": {
     "end_time": "2023-05-23T01:54:50.101103300Z",
     "start_time": "2023-05-23T01:54:50.006410500Z"
    }
   },
   "outputs": [
    {
     "data": {
      "text/plain": [
       "LinearRegression()"
      ]
     },
     "execution_count": 29,
     "metadata": {},
     "output_type": "execute_result"
    }
   ],
   "source": [
    "model = LinearRegression()  \n",
    "model.fit(X_train,y_train)  "
   ]
  },
  {
   "cell_type": "code",
   "execution_count": 30,
   "metadata": {
    "ExecuteTime": {
     "end_time": "2023-05-23T01:54:50.102461900Z",
     "start_time": "2023-05-23T01:54:50.052104800Z"
    }
   },
   "outputs": [
    {
     "name": "stdout",
     "output_type": "stream",
     "text": [
      "Puntaje entrenamiento: 0.9085972161613586\n",
      "Puntaje Test: 0.8942128573957069\n",
      "\n",
      "MAE 11.86192785515848\n",
      "MSE 359.2115018728868\n"
     ]
    }
   ],
   "source": [
    "predictions = model.predict(X_test)\n",
    "\n",
    "print('Puntaje entrenamiento: {}'.format(model.score(X_train,y_train)))\n",
    "print('Puntaje Test: {}\\n'.format(model.score(X_test,y_test)))\n",
    "print('MAE',mean_absolute_error(y_test, predictions)) #mean absolute error\n",
    "print('MSE',mean_squared_error(y_test, predictions))  #mean squared error"
   ]
  },
  {
   "attachments": {},
   "cell_type": "markdown",
   "metadata": {},
   "source": [
    "Basado en los resultados, puedo decir que mi modelo es bueno. El puntaje de entrenamiento es de 0.91 y el puntaje de prueba es de 0.89, lo que indica que el modelo tiene una buena capacidad de generalización, es decir, puede predecir los valores de nuevas muestras, no hay overfitting y esto es un punto muy positivo.\n",
    "Además, el MAE es de 11.86 y el MSE es de 359.21, lo que significa que el modelo tiene un bajo error promedio en la predicción de los valores y las diferencias entre las predicciones y los valores del data set son pequeñas.\n",
    "Por lo tanto, el modelo de regresión lineal es efectivo para predecir los valores de CO2 emitido por los vehículos."
   ]
  },
  {
   "cell_type": "code",
   "execution_count": 31,
   "metadata": {
    "ExecuteTime": {
     "end_time": "2023-05-23T01:54:50.103107600Z",
     "start_time": "2023-05-23T01:54:50.083169600Z"
    }
   },
   "outputs": [
    {
     "data": {
      "text/plain": [
       "0.7010861270963571"
      ]
     },
     "execution_count": 31,
     "metadata": {},
     "output_type": "execute_result"
    }
   ],
   "source": [
    "#test de kurtosis del modelo\n",
    "from scipy.stats import kurtosis\n",
    "kurtosis(y_test)"
   ]
  },
  {
   "cell_type": "code",
   "execution_count": 32,
   "metadata": {
    "ExecuteTime": {
     "end_time": "2023-05-23T01:54:50.118103400Z",
     "start_time": "2023-05-23T01:54:50.098107100Z"
    }
   },
   "outputs": [
    {
     "data": {
      "text/plain": [
       "Jarque_beraResult(statistic=157.67472036909226, pvalue=0.0)"
      ]
     },
     "execution_count": 32,
     "metadata": {},
     "output_type": "execute_result"
    }
   ],
   "source": [
    "#test de jarque bera del modelo\n",
    "from scipy.stats import jarque_bera \n",
    "jarque_bera(y_test)"
   ]
  },
  {
   "attachments": {},
   "cell_type": "markdown",
   "metadata": {},
   "source": [
    "Como la Kurtosis es muy cercana a 0, y el pvalue de la prueba Jaque Bera es 0, puedo decir que el modelo tiene una distribución normal, por lo tanto es un buen modelo y ya no habría que hacer nada para corregirlo"
   ]
  },
  {
   "attachments": {},
   "cell_type": "markdown",
   "metadata": {},
   "source": [
    "Puedo decir entoces que el modelo es bueno, capaz de predecir valores fuera de la base de datos (poco overfitting) y con una distribución de los datos normal.\n",
    "Por último se comparará este modelo con otros, como el kNN o el random forest"
   ]
  },
  {
   "attachments": {},
   "cell_type": "markdown",
   "metadata": {},
   "source": [
    "### Modelo Random Forest"
   ]
  },
  {
   "cell_type": "code",
   "execution_count": 33,
   "metadata": {
    "ExecuteTime": {
     "end_time": "2023-05-23T01:54:53.828371800Z",
     "start_time": "2023-05-23T01:54:50.115107400Z"
    }
   },
   "outputs": [
    {
     "name": "stdout",
     "output_type": "stream",
     "text": [
      "Puntaje entrenamiento: 0.986109383419147\n",
      "Puntaje Test: 0.9664580279128058\n",
      "\n",
      "MAE 4.933450587327322\n",
      "MSE 113.89533616848564\n"
     ]
    }
   ],
   "source": [
    "from sklearn.ensemble import RandomForestRegressor\n",
    "model = RandomForestRegressor(max_depth=10,max_leaf_nodes=50,random_state=0)\n",
    "model.fit(X_train,y_train)\n",
    "predictions = model.predict(X_test)\n",
    "print('Puntaje entrenamiento: {}'.format(model.score(X_train,y_train)))\n",
    "print('Puntaje Test: {}\\n'.format(model.score(X_test,y_test)))\n",
    "print('MAE',mean_absolute_error(y_test, predictions)) #mean absolute error\n",
    "print('MSE',mean_squared_error(y_test, predictions))  #mean squared error"
   ]
  },
  {
   "attachments": {},
   "cell_type": "markdown",
   "metadata": {},
   "source": [
    "El modelo random forest acabó siendo mejor que la regresión lineal, tiene unos puntajes muy altos, muy cercano a 1 y no hay overfitting. En mi consideración es el mejor modelo."
   ]
  }
 ],
 "metadata": {
  "kernelspec": {
   "display_name": "Python 3",
   "language": "python",
   "name": "python3"
  },
  "language_info": {
   "codemirror_mode": {
    "name": "ipython",
    "version": 3
   },
   "file_extension": ".py",
   "mimetype": "text/x-python",
   "name": "python",
   "nbconvert_exporter": "python",
   "pygments_lexer": "ipython3",
   "version": "3.9.5"
  },
  "orig_nbformat": 4
 },
 "nbformat": 4,
 "nbformat_minor": 2
}
